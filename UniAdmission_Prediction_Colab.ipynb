{
  "cells": [
    {
      "cell_type": "code",
      "execution_count": null,
      "metadata": {
        "id": "ck0yEOiOwYgZ"
      },
      "outputs": [],
      "source": [
        "import pandas as pd\n",
        "import numpy as np\n",
        "import sklearn as sklearn\n",
        "from sklearn.model_selection import train_test_split, cross_val_score\n",
        "from sklearn.ensemble import RandomForestClassifier\n",
        "from sklearn.linear_model import LogisticRegression\n",
        "from sklearn.metrics import accuracy_score, f1_score\n",
        "import joblib\n",
        "import logging\n",
        "import multiprocessing as mp\n",
        "import warnings\n",
        "warnings.filterwarnings('ignore')\n",
        "\n",
        "# Setup logging\n",
        "logging.basicConfig(filename='prediction.log', level=logging.INFO,\n",
        "                    format='%(asctime)s - %(message)s')"
      ]
    },
    {
      "cell_type": "markdown",
      "metadata": {},
      "source": [
        "## Clean column names (remove spaces, newlines)"
      ]
    },
    {
      "cell_type": "code",
      "execution_count": null,
      "metadata": {},
      "outputs": [],
      "source": [
        "df.columns = [col.strip().replace('\\n', '') for col in df.columns]\n",
        "print(\"Columns:\", df.columns.tolist())\n"
      ]
    },
    {
      "cell_type": "markdown",
      "metadata": {},
      "source": [
        "## Dynamic university detection (Enhancement 2)"
      ]
    },
    {
      "cell_type": "code",
      "execution_count": null,
      "metadata": {},
      "outputs": [],
      "source": [
        "universities = [col.split(' Score')[0] for col in df.columns if ' Score' in col and col not in ['Matriculation Marks', 'Intermediate Marks']]\n",
        "print(\"Detected universities:\", universities)"
      ]
    },
    {
      "cell_type": "markdown",
      "metadata": {},
      "source": [
        "## Define max_marks (aligned with cleaned names)"
      ]
    },
    {
      "cell_type": "code",
      "execution_count": null,
      "metadata": {},
      "outputs": [],
      "source": [
        "max_marks = {\n",
        "    'Matriculation Marks': 1100, 'Intermediate Marks': 550,\n",
        "    'UET Score': 400, 'NUST Score': 200, 'GIKI Score': 100,\n",
        "    'PIEAS Score': 100, 'PUCIT Score': 100, 'FAST Score': 100,\n",
        "    'COMSATS Score': 100, 'ITU Score': 50\n",
        "}\n",
        "feature_cols = ['Matriculation Marks_pct', 'Intermediate Marks_pct']"
      ]
    },
    {
      "cell_type": "markdown",
      "metadata": {},
      "source": [
        "# Normalize features"
      ]
    },
    {
      "cell_type": "code",
      "execution_count": null,
      "metadata": {},
      "outputs": [],
      "source": [
        "for col in max_marks.keys():\n",
        "    if col in df.columns:\n",
        "        df[f'{col}_pct'] = np.clip(df[col] / max_marks[col] * 100, 0, 100)\n",
        "        logging.info(f\"Normalized {col} to {col}_pct\")\n",
        "    else:\n",
        "        logging.warning(f\"Column {col} not found in dataset\")"
      ]
    },
    {
      "cell_type": "markdown",
      "metadata": {},
      "source": [
        "## Verify all expected columns exist"
      ]
    },
    {
      "cell_type": "code",
      "execution_count": null,
      "metadata": {},
      "outputs": [],
      "source": [
        "expected_cols = feature_cols + [f'{uni} Score_pct' for uni in universities] + [f'{uni} Aggregate' for uni in universities]\n",
        "missing = [col for col in expected_cols if col not in df.columns]\n",
        "if missing:\n",
        "    logging.error(f\"Missing columns after normalization: {missing}\")\n",
        "    raise ValueError(f\"Normalization failed: {missing}\")"
      ]
    },
    {
      "cell_type": "markdown",
      "metadata": {
        "id": "VvvzFBXShtTx"
      },
      "source": []
    },
    {
      "cell_type": "code",
      "execution_count": null,
      "metadata": {
        "id": "bCNYiJpnULFt"
      },
      "outputs": [],
      "source": []
    }
  ],
  "metadata": {
    "colab": {
      "provenance": []
    },
    "kernelspec": {
      "display_name": "Python 3",
      "name": "python3"
    },
    "language_info": {
      "name": "python"
    }
  },
  "nbformat": 4,
  "nbformat_minor": 0
}
